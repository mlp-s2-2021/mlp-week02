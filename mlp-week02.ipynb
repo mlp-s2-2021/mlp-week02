{
 "cells": [
  {
   "cell_type": "markdown",
   "metadata": {},
   "source": [
    "# Machine Learning in Python - Workshop 2"
   ]
  },
  {
   "cell_type": "markdown",
   "metadata": {},
   "source": [
    "## 1. Setup\n",
    "\n",
    "### 1.1 Packages\n",
    "In the cell below we will load the core libraries we will be using for this workshop and setting some sensible defaults for our plot size and resolution."
   ]
  },
  {
   "cell_type": "code",
   "execution_count": 2,
   "metadata": {},
   "outputs": [],
   "source": [
    "# Display plots inline\n",
    "%matplotlib inline\n",
    "\n",
    "# Data libraries\n",
    "import pandas as pd\n",
    "import numpy as np\n",
    "\n",
    "# Plotting libraries\n",
    "import matplotlib.pyplot as plt\n",
    "import seaborn as sns\n",
    "\n",
    "# Plotting defaults\n",
    "plt.rcParams['figure.figsize'] = (8,5)\n",
    "plt.rcParams['figure.dpi'] = 80"
   ]
  },
  {
   "cell_type": "markdown",
   "metadata": {},
   "source": [
    "### 1.2 Data\n",
    "\n",
    "To begin, we will examine a simple data set on the size and weight of a number of books. These data come from the `allbacks` data set from the `DAAG` package in R. Our goal is to model the weight of a book using some combination of the other features in the data. The included columns are as follows:\n",
    "\n",
    "* `volume` - book volumes in cubic centimeters\n",
    "* `area` - hard board cover areas in square centimeters\n",
    "* `weight` - book weights in grams\n",
    "* `cover` - a factor with levels `\"hb\"` hardback, `\"pb\"` paperback\n",
    "\n",
    "We read the data into python using pandas,"
   ]
  },
  {
   "cell_type": "code",
   "execution_count": 3,
   "metadata": {},
   "outputs": [
    {
     "data": {
      "text/html": [
       "<div>\n",
       "<style scoped>\n",
       "    .dataframe tbody tr th:only-of-type {\n",
       "        vertical-align: middle;\n",
       "    }\n",
       "\n",
       "    .dataframe tbody tr th {\n",
       "        vertical-align: top;\n",
       "    }\n",
       "\n",
       "    .dataframe thead th {\n",
       "        text-align: right;\n",
       "    }\n",
       "</style>\n",
       "<table border=\"1\" class=\"dataframe\">\n",
       "  <thead>\n",
       "    <tr style=\"text-align: right;\">\n",
       "      <th></th>\n",
       "      <th>volume</th>\n",
       "      <th>area</th>\n",
       "      <th>weight</th>\n",
       "      <th>cover</th>\n",
       "    </tr>\n",
       "  </thead>\n",
       "  <tbody>\n",
       "    <tr>\n",
       "      <th>0</th>\n",
       "      <td>885</td>\n",
       "      <td>382</td>\n",
       "      <td>800</td>\n",
       "      <td>hb</td>\n",
       "    </tr>\n",
       "    <tr>\n",
       "      <th>1</th>\n",
       "      <td>1016</td>\n",
       "      <td>468</td>\n",
       "      <td>950</td>\n",
       "      <td>hb</td>\n",
       "    </tr>\n",
       "    <tr>\n",
       "      <th>2</th>\n",
       "      <td>1125</td>\n",
       "      <td>387</td>\n",
       "      <td>1050</td>\n",
       "      <td>hb</td>\n",
       "    </tr>\n",
       "    <tr>\n",
       "      <th>3</th>\n",
       "      <td>239</td>\n",
       "      <td>371</td>\n",
       "      <td>350</td>\n",
       "      <td>hb</td>\n",
       "    </tr>\n",
       "    <tr>\n",
       "      <th>4</th>\n",
       "      <td>701</td>\n",
       "      <td>371</td>\n",
       "      <td>750</td>\n",
       "      <td>hb</td>\n",
       "    </tr>\n",
       "    <tr>\n",
       "      <th>5</th>\n",
       "      <td>641</td>\n",
       "      <td>367</td>\n",
       "      <td>600</td>\n",
       "      <td>hb</td>\n",
       "    </tr>\n",
       "    <tr>\n",
       "      <th>6</th>\n",
       "      <td>1228</td>\n",
       "      <td>396</td>\n",
       "      <td>1075</td>\n",
       "      <td>hb</td>\n",
       "    </tr>\n",
       "    <tr>\n",
       "      <th>7</th>\n",
       "      <td>412</td>\n",
       "      <td>0</td>\n",
       "      <td>250</td>\n",
       "      <td>pb</td>\n",
       "    </tr>\n",
       "    <tr>\n",
       "      <th>8</th>\n",
       "      <td>953</td>\n",
       "      <td>0</td>\n",
       "      <td>700</td>\n",
       "      <td>pb</td>\n",
       "    </tr>\n",
       "    <tr>\n",
       "      <th>9</th>\n",
       "      <td>929</td>\n",
       "      <td>0</td>\n",
       "      <td>650</td>\n",
       "      <td>pb</td>\n",
       "    </tr>\n",
       "    <tr>\n",
       "      <th>10</th>\n",
       "      <td>1492</td>\n",
       "      <td>0</td>\n",
       "      <td>975</td>\n",
       "      <td>pb</td>\n",
       "    </tr>\n",
       "    <tr>\n",
       "      <th>11</th>\n",
       "      <td>419</td>\n",
       "      <td>0</td>\n",
       "      <td>350</td>\n",
       "      <td>pb</td>\n",
       "    </tr>\n",
       "    <tr>\n",
       "      <th>12</th>\n",
       "      <td>1010</td>\n",
       "      <td>0</td>\n",
       "      <td>950</td>\n",
       "      <td>pb</td>\n",
       "    </tr>\n",
       "    <tr>\n",
       "      <th>13</th>\n",
       "      <td>595</td>\n",
       "      <td>0</td>\n",
       "      <td>425</td>\n",
       "      <td>pb</td>\n",
       "    </tr>\n",
       "    <tr>\n",
       "      <th>14</th>\n",
       "      <td>1034</td>\n",
       "      <td>0</td>\n",
       "      <td>725</td>\n",
       "      <td>pb</td>\n",
       "    </tr>\n",
       "  </tbody>\n",
       "</table>\n",
       "</div>"
      ],
      "text/plain": [
       "    volume  area  weight cover\n",
       "0      885   382     800    hb\n",
       "1     1016   468     950    hb\n",
       "2     1125   387    1050    hb\n",
       "3      239   371     350    hb\n",
       "4      701   371     750    hb\n",
       "5      641   367     600    hb\n",
       "6     1228   396    1075    hb\n",
       "7      412     0     250    pb\n",
       "8      953     0     700    pb\n",
       "9      929     0     650    pb\n",
       "10    1492     0     975    pb\n",
       "11     419     0     350    pb\n",
       "12    1010     0     950    pb\n",
       "13     595     0     425    pb\n",
       "14    1034     0     725    pb"
      ]
     },
     "execution_count": 3,
     "metadata": {},
     "output_type": "execute_result"
    }
   ],
   "source": [
    "books = pd.read_csv(\"daag_books.csv\")\n",
    "books"
   ]
  },
  {
   "cell_type": "markdown",
   "metadata": {},
   "source": [
    "---\n",
    "\n",
    "### &diams; Exercise 1\n",
    "\n",
    "Create a pairs plot of these data (make sure to include the `cover` column), describe any relationships you observe in the data."
   ]
  },
  {
   "cell_type": "code",
   "execution_count": null,
   "metadata": {},
   "outputs": [],
   "source": []
  },
  {
   "cell_type": "markdown",
   "metadata": {},
   "source": [
    "---"
   ]
  },
  {
   "cell_type": "markdown",
   "metadata": {},
   "source": [
    "## 1. Regression"
   ]
  },
  {
   "cell_type": "markdown",
   "metadata": {},
   "source": [
    "We will begin by fitting a simple linear regression model for `weight` using exclusively `volume` as a feature. "
   ]
  },
  {
   "cell_type": "markdown",
   "metadata": {},
   "source": [
    "---\n",
    "\n",
    "### &diams; Exercise 2\n",
    "\n",
    "Create a scatter plot of these data describe any apparent relationship between these variables."
   ]
  },
  {
   "cell_type": "code",
   "execution_count": null,
   "metadata": {},
   "outputs": [],
   "source": []
  },
  {
   "cell_type": "markdown",
   "metadata": {},
   "source": [
    "---"
   ]
  },
  {
   "cell_type": "markdown",
   "metadata": {},
   "source": [
    "### 1.1 Least Squares"
   ]
  },
  {
   "cell_type": "markdown",
   "metadata": {},
   "source": [
    "In lecture we discussed how we can represent a regression problem using matrix notation and we can derive a solution using least squares. We can express this as,\n",
    "\n",
    "$$\n",
    "\\underset{\\boldsymbol{\\beta}}{\\text{argmin}} \\,\\, \\lVert \\boldsymbol{y} - \\boldsymbol{X} \\boldsymbol{\\beta} \\rVert^2 \n",
    "= \\underset{\\boldsymbol{\\beta}}{\\text{argmin}} \\,\\, (\\boldsymbol{y} - \\boldsymbol{X} \\boldsymbol{\\beta})^\\top(\\boldsymbol{y} - \\boldsymbol{X} \\boldsymbol{\\beta})\n",
    "$$\n",
    "\n",
    "where,\n",
    "\n",
    "$$\n",
    "\\underset{n \\times 1}{\\boldsymbol{y}} = \\begin{pmatrix} y_1 \\\\ y_2 \\\\ \\vdots \\\\ y_{n-1} \\\\ y_n \\end{pmatrix} \n",
    "\\qquad\n",
    "\\underset{n \\times 2}{\\boldsymbol{X}} = \\begin{pmatrix} 1 & x_1 \\\\ 1 & x_2 \\\\ \\vdots & \\vdots \\\\ 1 & x_{n-1} \\\\ 1 & x_n \\\\ \\end{pmatrix}\n",
    "\\qquad \n",
    "\\underset{2 \\times 1}{\\boldsymbol{\\beta}} = \\begin{pmatrix} \\beta_0 \\\\ \\beta_1 \\end{pmatrix}\n",
    "$$"
   ]
  },
  {
   "cell_type": "markdown",
   "metadata": {},
   "source": [
    "The solution to this optimization problem is,\n",
    "\n",
    "$$\n",
    "\\boldsymbol{\\beta} = \\left(\\boldsymbol{X}^\\top\\boldsymbol{X}\\right)^{-1} \\boldsymbol{X}^\\top\\boldsymbol{y}\n",
    "$$"
   ]
  },
  {
   "cell_type": "markdown",
   "metadata": {},
   "source": [
    "In Python we can construct the model matrix `X` by combining a column of ones, for the intercept, with our observed `volume` values. Similarly, `y` is a column vector of the `weight` values. In both cases we construct these objects as numpy array objects."
   ]
  },
  {
   "cell_type": "code",
   "execution_count": null,
   "metadata": {},
   "outputs": [],
   "source": [
    "y = np.array(books.weight)\n",
    "print(y)"
   ]
  },
  {
   "cell_type": "code",
   "execution_count": null,
   "metadata": {},
   "outputs": [],
   "source": [
    "X = np.c_[\n",
    "    np.ones(len(y)),\n",
    "    books.volume\n",
    "]\n",
    "\n",
    "print(X[:5])"
   ]
  },
  {
   "cell_type": "markdown",
   "metadata": {},
   "source": [
    "Given the model matrix $(\\boldsymbol{X})$ and observed outcomes $(\\boldsymbol{y})$ we can then calculate the vector of solutions $(\\boldsymbol{\\beta})$ using numpy,"
   ]
  },
  {
   "cell_type": "code",
   "execution_count": null,
   "metadata": {},
   "outputs": [],
   "source": [
    "from numpy.linalg import inv\n",
    "\n",
    "beta = inv(X.T @ X) @ X.T @ y\n",
    "print(beta)"
   ]
  },
  {
   "cell_type": "markdown",
   "metadata": {},
   "source": [
    "Note that when using numpy `@` performs  matrix multiplication while `*` performs elementwise multiplication between arrays. Numpy matrix multiplication can also be written using `A.dot(B)` or `np.matmul(A,B)`.\n",
    "\n",
    "We can calculate predictions from this model by calculating $\\hat{y} = \\boldsymbol{X} \\boldsymbol{\\beta}$. "
   ]
  },
  {
   "cell_type": "markdown",
   "metadata": {},
   "source": [
    "---\n",
    "\n",
    "### &diams; Exercise 3\n",
    "\n",
    "Calculate these predicted book weights and store them in the origin `books` data frame in a column called `weight_ls_pred`. Print out the updated version of the data frame with this new column added."
   ]
  },
  {
   "cell_type": "code",
   "execution_count": null,
   "metadata": {},
   "outputs": [],
   "source": []
  },
  {
   "cell_type": "markdown",
   "metadata": {},
   "source": [
    "---\n",
    "\n",
    "Given the predictions we can create a plot showing the models fit by overlaying a line plot of the predictions on top of the original scatter plot."
   ]
  },
  {
   "cell_type": "code",
   "execution_count": null,
   "metadata": {},
   "outputs": [],
   "source": [
    "sns.scatterplot(x=\"volume\", y=\"weight\", hue=\"cover\", data=books)\n",
    "sns.lineplot(x=\"volume\", y=\"weight_ls_pred\", color=\"black\", data=books)"
   ]
  },
  {
   "cell_type": "markdown",
   "metadata": {},
   "source": [
    "---\n",
    "\n",
    "### 1.2 scikit-Learn"
   ]
  },
  {
   "cell_type": "markdown",
   "metadata": {},
   "source": [
    "Constructing the model matrix by hand and calculating $\\beta$ and model predictions using the least squares solution is less than ideal. As you might expect there are a number of higher level libraries that take care of many of these details. In this course we will be using the **scikit-learn** (**sklearn**) library to implement most of our machine learning models. As the semester progresses we will be learning about and implementing many different modeling methods. Additionally, we will also be learning how to use the larger data processing and workflow tools that are available in this library.\n",
    "\n",
    "sklearn separates its various modeling tools into submodules organized by model type - for today we will be using the `LinearRegression` model from the `linear_model` submodule. Which we can import as follows,"
   ]
  },
  {
   "cell_type": "code",
   "execution_count": null,
   "metadata": {},
   "outputs": [],
   "source": [
    "from sklearn.linear_model import LinearRegression"
   ]
  },
  {
   "cell_type": "markdown",
   "metadata": {},
   "source": [
    "In general sklearn's models are implemented by first creating a model object, which is configured via constructor arguments, and then using that object to fit your data. As such, we will now create a linear regression model object `lr` and use it to fit our data. Once this object is created we use the `fit` method to obtain a model object fitted to our data. This model object then has various useful methods and attributes, including `intercept_` and `coef_` which contain our estimates for $\\beta$."
   ]
  },
  {
   "cell_type": "code",
   "execution_count": null,
   "metadata": {},
   "outputs": [],
   "source": [
    "lr = LinearRegression()\n",
    "l = lr.fit(\n",
    "    X = np.array(books.volume).reshape(-1,1), # X must be a matrix so we need to reshape the column\n",
    "    y = books.weight\n",
    ")\n",
    "b0 = l.intercept_\n",
    "b1 = l.coef_[0]   # Subsetting in order to get a scalar value\n",
    "beta = (b0, b1)\n",
    "\n",
    "print(beta)"
   ]
  },
  {
   "cell_type": "markdown",
   "metadata": {},
   "source": [
    "Using this default construction of `LinearRegression`, sklearn assumes that we have not included an intercept column (ones) in our model matrix and takes care of this for you. Additionally, since the intercept column is added the $\\beta$ estimated for this particular column is stored separately, in the `intercept_` attribue.\n",
    "\n",
    "I generally find this default behavior to be somewhat frustrating to work with, instead my preference is to handle all of the details of constructing the model matrix `X` myself and retrieving all `\\beta` values (including the intercept) from `coef_` directly. For example, if we use the `X` and `y` variables we defined for the least squares example above and construct the `LinearRegression` object using `fit_intercept=False` then,"
   ]
  },
  {
   "cell_type": "code",
   "execution_count": null,
   "metadata": {},
   "outputs": [],
   "source": [
    "l = LinearRegression(fit_intercept=False).fit(X = X, y = y)\n",
    "beta = l.coef_\n",
    "\n",
    "print(beta)"
   ]
  },
  {
   "cell_type": "markdown",
   "metadata": {},
   "source": [
    "Note that this is the same answers we obtained above.\n",
    "\n",
    "The model fit objects also provide additional useful methods for evaluating the model (`score`), more on this next week, and calculating predictions (`predict`). Using the later we can add another column of predictions to our data frame."
   ]
  },
  {
   "cell_type": "code",
   "execution_count": null,
   "metadata": {},
   "outputs": [],
   "source": [
    "books[\"weight_sk_pred\"] = l.predict(X)\n",
    "books"
   ]
  },
  {
   "cell_type": "markdown",
   "metadata": {},
   "source": [
    "---\n",
    "\n",
    "### &diams; Exercise 5\n",
    "\n",
    "Do these results agree with the results we obtained when using the least squares method?"
   ]
  },
  {
   "cell_type": "code",
   "execution_count": null,
   "metadata": {},
   "outputs": [],
   "source": []
  },
  {
   "cell_type": "markdown",
   "metadata": {},
   "source": [
    "---"
   ]
  },
  {
   "cell_type": "markdown",
   "metadata": {},
   "source": [
    "### 1.3 Residuals\n",
    "\n",
    "One of the most useful tools for evaluating a model is to examine the residuals of that model. For any standard regression model the residual for observation $i$ is defined as $y_i - \\hat{y}_i$ where $\\hat{y}_i$ is the model's predicted value for observation $i$. In the case of linear regression\n",
    "$\\hat{y} = \\boldsymbol{X} \\boldsymbol{\\beta}$.\n",
    "\n",
    "---\n",
    "\n",
    "### &diams; Exercise 6\n",
    "\n",
    "Calculate the residual for each observation and store it in a column named `resid`. Using this new column create a residual plot (scatter plot of `volume` vs `resid`) for this model, be sure to color the points based on the `cover` type. "
   ]
  },
  {
   "cell_type": "code",
   "execution_count": null,
   "metadata": {},
   "outputs": [],
   "source": []
  },
  {
   "cell_type": "markdown",
   "metadata": {},
   "source": [
    "---\n",
    "\n",
    "### &diams; Exercise 7\n",
    "\n",
    "Are there any particular issues we should be concerned about with this model based on what you see in the residual plot?"
   ]
  },
  {
   "cell_type": "markdown",
   "metadata": {},
   "source": []
  },
  {
   "cell_type": "markdown",
   "metadata": {},
   "source": [
    "---\n",
    "\n",
    "## 2. Regression with Categorical Variables\n",
    "\n"
   ]
  },
  {
   "cell_type": "markdown",
   "metadata": {},
   "source": [
    "### 2.2 Dummy Coding"
   ]
  },
  {
   "cell_type": "markdown",
   "metadata": {},
   "source": [
    "Based on these results, it should be clear that it is important that our model include information about whether or not a book is a hardback or paperback. As such, we need a way of encoding this information into our modeling framework. To do this we need a way of converting our string / categorical variable into a numeric representation that can be included in our model matrix.\n",
    "\n",
    "The most common approach for doing this is called dummy coding, in the case of a binary categorical variable it involves picking one of the two levels of the categorical variable and encoding it as 1 and the other level as 0. With Python we can accomplish this by comparing our categorical vector to the value of our choice and then casting (converting) the result to an integer type.\n",
    "\n",
    "For example if we wanted to code `hb` as 1 and `pb` as 0 we would do the following,"
   ]
  },
  {
   "cell_type": "code",
   "execution_count": null,
   "metadata": {},
   "outputs": [],
   "source": [
    "books[\"cover_hb\"] = (books.cover == \"hb\").astype(int) # Returns either 0 or 1\n",
    "books"
   ]
  },
  {
   "cell_type": "markdown",
   "metadata": {},
   "source": [
    "This is equivalent to using an indicator function in mathematical notation,\n",
    "\n",
    "$$ \n",
    "\\mathbb{1}_{hb_i} = \n",
    "\\begin{cases}\n",
    "1 & \\text {if cover of book $i$ is hardback} \\\\\n",
    "0 & \\text {if cover of book $i$ is paperback}\n",
    "\\end{cases}\n",
    "$$\n",
    "\n",
    "Alternatively, we can defined the opposite of this where we code `hardback` as 0 and `paperback` as 1,\n"
   ]
  },
  {
   "cell_type": "code",
   "execution_count": null,
   "metadata": {},
   "outputs": [],
   "source": [
    "books[\"cover_pb\"] = (books.cover == \"pb\").astype(int) # Returns either 0 or 1\n",
    "books"
   ]
  },
  {
   "cell_type": "markdown",
   "metadata": {},
   "source": [
    "Now that we have recoded our categorical variable, `cover`, into a numerical variable we can fit a standard regression model with the form,\n",
    "\n",
    "$$ y_i = \\beta_0 + \\beta_1 \\, x_i + \\beta_2 \\, \\mathbb{1}_{hb_i} $$\n",
    "\n",
    "which we can represent in matrix form using, $\\boldsymbol{y} = \\boldsymbol{X} \\boldsymbol{\\beta}$\n",
    "where $\\boldsymbol{X} = \\big[ \\boldsymbol{1},\\, \\boldsymbol{x},\\, \\boldsymbol{\\mathbb{1}_{hb}} \\big]$.\n",
    "\n",
    "Using Python, we can use the concatenate function with our 1s column, the `volume` column, and our new dummy coded indicator column, `cover_hb`,"
   ]
  },
  {
   "cell_type": "code",
   "execution_count": null,
   "metadata": {},
   "outputs": [],
   "source": [
    "X = np.c_[np.ones(len(y)), books.volume, books.cover_hb]\n",
    "l = LinearRegression(fit_intercept=False).fit(X, books.weight)\n",
    "\n",
    "beta = l.coef_\n",
    "\n",
    "print(beta)"
   ]
  },
  {
   "cell_type": "markdown",
   "metadata": {},
   "source": [
    "This gives us a regression equation of the form,\n",
    "\n",
    "$$ \n",
    "y_i = 13.9 + 0.72 \\, x_i + 184.0 \\, \\mathbb{1}_{hb_i} \n",
    "$$\n",
    "\n",
    "which can be rewritten as two separate line equations (one for each case of `cover`),\n",
    "\n",
    "$$\n",
    "y_i = \\begin{cases}\n",
    "        13.9 + 0.72 \\, x_i & \\text{if book cover $i$ is paperback} \\\\\n",
    "        (13.9 + 184.0) + 0.72 \\, x_i & \\text{if book cover $i$ is hardback} \\\\\n",
    "       \\end{cases}.\n",
    "$$\n",
    "\n",
    "We can calculate prediction points along those lines using the following Python code in which we hard code the possible values of $\\boldsymbol{\\mathbb{1}_{hb_i}}$"
   ]
  },
  {
   "cell_type": "code",
   "execution_count": null,
   "metadata": {},
   "outputs": [],
   "source": [
    "books[\"weight_hb_pred\"] = l.predict(X)\n",
    "books"
   ]
  },
  {
   "cell_type": "markdown",
   "metadata": {},
   "source": [
    "and we can then plot both of these lines along with the observed data."
   ]
  },
  {
   "cell_type": "code",
   "execution_count": null,
   "metadata": {},
   "outputs": [],
   "source": [
    "sns.scatterplot(x=\"volume\", y=\"weight\", hue=\"cover\", data=books)\n",
    "sns.lineplot(x=\"volume\", y=\"weight_hb_pred\", hue=\"cover\", data=books)"
   ]
  },
  {
   "cell_type": "markdown",
   "metadata": {},
   "source": [
    "As well as create plot a residual plot of this new model,"
   ]
  },
  {
   "cell_type": "code",
   "execution_count": null,
   "metadata": {},
   "outputs": [],
   "source": [
    "books[\"resid_hb\"] = books.weight - books.weight_hb_pred\n",
    "sns.scatterplot(x=\"volume\", y=\"resid_hb\", hue=\"cover\", data=books)"
   ]
  },
  {
   "cell_type": "markdown",
   "metadata": {},
   "source": [
    "---\n",
    "\n",
    "### &diams; Exercise 8\n",
    "\n",
    "Based on these regression fits, do you think the model including the dummy coded `cover` variable produces a \"better\" model than our first regression model which did not include `cover`? Explain. "
   ]
  },
  {
   "cell_type": "markdown",
   "metadata": {},
   "source": []
  },
  {
   "cell_type": "markdown",
   "metadata": {},
   "source": [
    "---\n",
    "\n",
    "Note that by including a dummy variable in our model will change the interpretation of our regression coefficients. In this context,\n",
    "\n",
    "* $\\beta_0$ - This is the expected weight of a book with a `volume` of zero and a `hardback` indicator of zero, in other words a softcover book with zero volume.\n",
    "\n",
    "* $\\beta_1$ - This is the expected additional weight a book would have if its volume were to increase by 1 cm$^3$, all else being equal.\n",
    "\n",
    "* $\\beta_2$ - This is the expected additional weight a book would have if its hardcover indicator were to increase by 1, all else being equal. However, the hardcover indicator can only be 0 or 1 and hence this is the change in weight we would expect between a softcover book and a hardcover book with the same volume. In other words, hardcover books weight 184g more than softcover books.\n",
    "\n",
    "Based on these interpretations we can see that the level that was coded as 0 (what is often called the reference level) gets folded into our intercept and the slope coefficient for the indicator provides the difference in intercept between the reference and the contrast level (level coded as 1).\n"
   ]
  },
  {
   "cell_type": "markdown",
   "metadata": {},
   "source": [
    "---\n",
    "\n",
    "### &diams; Exercise 9\n",
    "\n",
    "Repeat the analysis above but this time fit a model using `pb` instead of `hb` in your model matrix. You should fit the new model as well as calculate the predictions for both paperback and hardback books."
   ]
  },
  {
   "cell_type": "code",
   "execution_count": null,
   "metadata": {},
   "outputs": [],
   "source": []
  },
  {
   "cell_type": "markdown",
   "metadata": {},
   "source": [
    "---\n",
    "\n",
    "### &diams; Exercise 10\n",
    "\n",
    "What changed between the model with `cover_pb` vs the model with `cover_hb`? Specifically, comment on the values of $\\beta_0$, $\\beta_1$, and $\\beta_2$ and their interpretations.\n"
   ]
  },
  {
   "cell_type": "markdown",
   "metadata": {},
   "source": []
  },
  {
   "cell_type": "markdown",
   "metadata": {},
   "source": [
    "---\n",
    "\n",
    "### 1.4 One hot encoding\n",
    "\n",
    "A common approach for transforming categorical variables is know as one hot encoding, in which each level of the categorical variable is transformed into a new column with values of 0 or 1. This is equivalent to what we have done manually above.\n",
    "\n",
    "Pandas has a built-in method for performing this on categorical columns. This is easiest to see with a simple example, below we construct a data frame `df` with a single column that we transform into a one hot encoded version using panda's `get_dummies` method."
   ]
  },
  {
   "cell_type": "code",
   "execution_count": null,
   "metadata": {},
   "outputs": [],
   "source": [
    "df = pd.DataFrame({\"col\": [\"A\",\"B\",\"C\",\"A\", np.nan]})\n",
    "df"
   ]
  },
  {
   "cell_type": "code",
   "execution_count": null,
   "metadata": {},
   "outputs": [],
   "source": [
    "pd.get_dummies(df)"
   ]
  },
  {
   "cell_type": "markdown",
   "metadata": {},
   "source": [
    "We can also perform typical statistical dummy coding by using the `drop_first=True` argument, which excludes the first column as a reference level."
   ]
  },
  {
   "cell_type": "code",
   "execution_count": null,
   "metadata": {},
   "outputs": [],
   "source": [
    "pd.get_dummies(df, drop_first=True)"
   ]
  },
  {
   "cell_type": "markdown",
   "metadata": {},
   "source": [
    "Missing values can also be included as an additional category via the `dummy_na=True` argument."
   ]
  },
  {
   "cell_type": "code",
   "execution_count": null,
   "metadata": {},
   "outputs": [],
   "source": [
    "pd.get_dummies(df, dummy_na=True)"
   ]
  },
  {
   "cell_type": "markdown",
   "metadata": {},
   "source": [
    "We can now use this approach with sklearn's linear regression model to simplify the process of creating our model with both `volume` and `cover`. Using `get_dummies` on a clean copy of the `books` data frame automatically replaces the `cover` column with `cover_hb` and `cover_pb`, which should match the columns we created by hand above. "
   ]
  },
  {
   "cell_type": "code",
   "execution_count": null,
   "metadata": {},
   "outputs": [],
   "source": [
    "books = pd.read_csv(\"daag_books.csv\") # Reread in the data for a clean copy\n",
    "books = pd.get_dummies(books)\n",
    "books"
   ]
  },
  {
   "cell_type": "markdown",
   "metadata": {},
   "source": [
    "---\n",
    "\n",
    "### 1.3 Rank deficiency\n",
    "\n",
    "Now lets consider the model where we naively include both `cover_hb` and `cover_pb` as well as an intercept column in our model matrix."
   ]
  },
  {
   "cell_type": "code",
   "execution_count": null,
   "metadata": {},
   "outputs": [],
   "source": [
    "X = np.c_[\n",
    "    np.ones(len(y)), \n",
    "    books.volume, \n",
    "    books.cover_hb,\n",
    "    books.cover_pb\n",
    "]\n",
    "l = LinearRegression(fit_intercept=False).fit(X, books.weight)\n",
    "\n",
    "\n",
    "beta = l.coef_\n",
    "print( beta )"
   ]
  },
  {
   "cell_type": "markdown",
   "metadata": {},
   "source": [
    "---\n",
    "\n",
    "### &diams; Exercise 11\n",
    "\n",
    "Write out the equations that predict weight for hardback and paperback books according to this model.  \n"
   ]
  },
  {
   "cell_type": "markdown",
   "metadata": {},
   "source": []
  },
  {
   "cell_type": "markdown",
   "metadata": {},
   "source": [
    "---\n",
    "\n",
    "### &diams; Exercise 12\n",
    "\n",
    "Are the solutions ($\\beta$) given above unique? Can you find different values of $\\beta_0$, $\\beta_1$, $\\beta_2$, and $\\beta_3$ that would give you the same regression equations you wrote out in the previous exercise?"
   ]
  },
  {
   "cell_type": "markdown",
   "metadata": {},
   "source": []
  },
  {
   "cell_type": "markdown",
   "metadata": {},
   "source": [
    "---\n",
    "\n",
    "### &diams; Exercise 13\n",
    "\n",
    "Solve for $\\beta$ using the least squares solutions mentioned in Section 1. Do the solutions differ from sklearn's solutions? Do they make sense? Explain."
   ]
  },
  {
   "cell_type": "code",
   "execution_count": null,
   "metadata": {},
   "outputs": [],
   "source": []
  },
  {
   "cell_type": "markdown",
   "metadata": {},
   "source": []
  },
  {
   "cell_type": "markdown",
   "metadata": {},
   "source": [
    "---"
   ]
  }
 ],
 "metadata": {
  "kernelspec": {
   "display_name": "Python 3",
   "language": "python",
   "name": "python3"
  },
  "language_info": {
   "codemirror_mode": {
    "name": "ipython",
    "version": 3
   },
   "file_extension": ".py",
   "mimetype": "text/x-python",
   "name": "python",
   "nbconvert_exporter": "python",
   "pygments_lexer": "ipython3",
   "version": "3.7.6"
  }
 },
 "nbformat": 4,
 "nbformat_minor": 4
}
